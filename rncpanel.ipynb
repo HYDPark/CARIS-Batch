{
 "cells": [
  {
   "cell_type": "code",
   "execution_count": 1,
   "metadata": {},
   "outputs": [],
   "source": [
    "\n",
    "import arcpy\n",
    "from arcpy import env\n",
    "from arcpy.sa import *\n",
    "\n",
    "arcpy.env.workspace = \"C:\\\\Projects\\\\RNCPANEL\"\n",
    "arcpy.env.overwriteOutput = True\n",
    "\n",
    "fc = \"RNC_PANEL_V4.shp\"\n",
    "\n",
    "infc = r\"C:\\Users\\DPArk\\Documents\\ArcGIS\\Projects\\MyProject30\\MyProject30.gdb\\rnc_panel\"\n",
    "cursor = arcpy.da.SearchCursor(infc, [\"CHARTVER_I\", \"STRINGVAL\",\"SHAPE@\"])\n",
    "for row in cursor:\n",
    "     if row[1] == 'NZ31':\n",
    "        #print(row)\n",
    "        shpe = row[2]\n",
    "\n",
    "charts = arcpy.Raster(\"2101_NZ31_1.tif\")\n",
    "#raster_info = charts.getRasterInfo()\n",
    "\n",
    "#charts\n",
    "#shpe\n",
    "\n",
    "\n",
    "arcpy.management.FeatureToPolygon(shpe, r\"C:\\Users\\DPArk\\Documents\\ArcGIS\\Projects\\MyProject30\\MyProject30.gdb\\NZ31\")\n",
    "\n",
    "NZ31_C = r\"C:\\Users\\DPArk\\Documents\\ArcGIS\\Projects\\MyProject30\\MyProject30.gdb\\NZ31\"\n",
    "\n",
    "outExtractByMask = ExtractByMask(charts, NZ31_C, \"INSIDE\" )\n",
    "outExtractByMask.save(\"NZ31_C.tif\")"
   ]
  },
  {
   "cell_type": "code",
   "execution_count": 2,
   "metadata": {},
   "outputs": [],
   "source": [
    "from osgeo import gdal\n",
    "\n",
    "# specify GeoTIFF file name, open it using GDAL and get the first band\n",
    "fn = r\"C:\\Projects\\RNCPANEL\\NZ31_C.TIF\"\n",
    "ds = gdal.Open(fn, 1)\n",
    "band = ds.GetRasterBand(1)\n",
    "\n",
    "# create color table\n",
    "colors = gdal.ColorTable()\n",
    "\n",
    "# set color for each value\n",
    "colors.SetColorEntry(0, (0, 0, 0))\n",
    "colors.SetColorEntry(1, (255, 255, 255))\n",
    "colors.SetColorEntry(2, (137, 71, 143))\n",
    "colors.SetColorEntry(3, (200, 0, 255))\n",
    "colors.SetColorEntry(4, (197, 235, 244))\n",
    "colors.SetColorEntry(5, (60, 190, 217))\n",
    "colors.SetColorEntry(6, (246, 200, 110))\n",
    "\n",
    "\n",
    "# set color table and color interpretation\n",
    "band.SetRasterColorTable(colors)\n",
    "band.SetRasterColorInterpretation(gdal.GCI_PaletteIndex)\n",
    "\n",
    "# close and save file\n",
    "del band, ds"
   ]
  }
 ],
 "metadata": {
  "kernelspec": {
   "display_name": "Python 3",
   "language": "python",
   "name": "python3"
  },
  "language_info": {
   "codemirror_mode": {
    "name": "ipython",
    "version": 3
   },
   "file_extension": ".py",
   "mimetype": "text/x-python",
   "name": "python",
   "nbconvert_exporter": "python",
   "pygments_lexer": "ipython3",
   "version": "3.9.16"
  }
 },
 "nbformat": 4,
 "nbformat_minor": 2
}
